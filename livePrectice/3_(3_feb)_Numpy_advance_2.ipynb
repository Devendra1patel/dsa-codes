{
  "cells": [
    {
      "cell_type": "code",
      "execution_count": 2,
      "id": "cb51d302",
      "metadata": {
        "id": "cb51d302"
      },
      "outputs": [],
      "source": [
        "import numpy as np\n",
        "data = np.array([[1], [2], [3]])"
      ]
    },
    {
      "cell_type": "code",
      "execution_count": 3,
      "id": "97b6e27b",
      "metadata": {
        "colab": {
          "base_uri": "https://localhost:8080/"
        },
        "id": "97b6e27b",
        "outputId": "3d5187d7-0d72-4a5b-d58b-6ef07d95a200"
      },
      "outputs": [
        {
          "output_type": "execute_result",
          "data": {
            "text/plain": [
              "2"
            ]
          },
          "metadata": {},
          "execution_count": 3
        }
      ],
      "source": [
        "data.ndim"
      ]
    },
    {
      "cell_type": "code",
      "execution_count": 4,
      "id": "3b644e1f",
      "metadata": {
        "colab": {
          "base_uri": "https://localhost:8080/"
        },
        "id": "3b644e1f",
        "outputId": "daa98073-1b8a-4bbd-e894-c2d13eb37f4c"
      },
      "outputs": [
        {
          "output_type": "execute_result",
          "data": {
            "text/plain": [
              "array([[1],\n",
              "       [2],\n",
              "       [3]])"
            ]
          },
          "metadata": {},
          "execution_count": 4
        }
      ],
      "source": [
        "data"
      ]
    },
    {
      "cell_type": "code",
      "execution_count": 5,
      "id": "6be2f497",
      "metadata": {
        "id": "6be2f497"
      },
      "outputs": [],
      "source": [
        "a=np.squeeze(data)  #used to reduse dimention, sometime it uses in image proseccing"
      ]
    },
    {
      "cell_type": "code",
      "execution_count": 6,
      "id": "5cfac6da",
      "metadata": {
        "colab": {
          "base_uri": "https://localhost:8080/"
        },
        "id": "5cfac6da",
        "outputId": "2c167755-f5f3-4a8f-db26-95cdb7a8f87a"
      },
      "outputs": [
        {
          "output_type": "execute_result",
          "data": {
            "text/plain": [
              "array([1, 2, 3])"
            ]
          },
          "metadata": {},
          "execution_count": 6
        }
      ],
      "source": [
        "a"
      ]
    },
    {
      "cell_type": "code",
      "execution_count": 7,
      "id": "92bdfbe8",
      "metadata": {
        "colab": {
          "base_uri": "https://localhost:8080/"
        },
        "id": "92bdfbe8",
        "outputId": "6465c112-689a-492a-c8a2-5d4c5067f958"
      },
      "outputs": [
        {
          "output_type": "execute_result",
          "data": {
            "text/plain": [
              "1"
            ]
          },
          "metadata": {},
          "execution_count": 7
        }
      ],
      "source": [
        "a.ndim"
      ]
    },
    {
      "cell_type": "code",
      "execution_count": 8,
      "id": "f46cca90",
      "metadata": {
        "colab": {
          "base_uri": "https://localhost:8080/"
        },
        "id": "f46cca90",
        "outputId": "d4281418-5a76-4e9a-c4e5-8f192504a7af"
      },
      "outputs": [
        {
          "output_type": "execute_result",
          "data": {
            "text/plain": [
              "array([[1],\n",
              "       [2],\n",
              "       [3]])"
            ]
          },
          "metadata": {},
          "execution_count": 8
        }
      ],
      "source": [
        "#repeat\n",
        "data"
      ]
    },
    {
      "cell_type": "code",
      "execution_count": 9,
      "id": "2dda7d17",
      "metadata": {
        "colab": {
          "base_uri": "https://localhost:8080/"
        },
        "id": "2dda7d17",
        "outputId": "138c1adf-b3b6-454e-9cbc-d36445228ee0"
      },
      "outputs": [
        {
          "output_type": "execute_result",
          "data": {
            "text/plain": [
              "array([1, 1, 1, 1, 2, 2, 2, 2, 3, 3, 3, 3])"
            ]
          },
          "metadata": {},
          "execution_count": 9
        }
      ],
      "source": [
        "np.repeat(data, 4)"
      ]
    },
    {
      "cell_type": "code",
      "execution_count": 10,
      "id": "7a41989a",
      "metadata": {
        "id": "7a41989a"
      },
      "outputs": [],
      "source": [
        "a = np.array([[1, 2], [3, 4]])"
      ]
    },
    {
      "cell_type": "code",
      "execution_count": 11,
      "id": "1feaba86",
      "metadata": {
        "colab": {
          "base_uri": "https://localhost:8080/"
        },
        "id": "1feaba86",
        "outputId": "13a30ef9-bdbb-4e80-cfa1-1dcc18210ede"
      },
      "outputs": [
        {
          "output_type": "execute_result",
          "data": {
            "text/plain": [
              "array([[1, 2],\n",
              "       [3, 4]])"
            ]
          },
          "metadata": {},
          "execution_count": 11
        }
      ],
      "source": [
        "a"
      ]
    },
    {
      "cell_type": "code",
      "execution_count": 12,
      "id": "b09da27f",
      "metadata": {
        "colab": {
          "base_uri": "https://localhost:8080/"
        },
        "id": "b09da27f",
        "outputId": "67387a5d-7db5-490e-b0b3-0d4203cdaa5a"
      },
      "outputs": [
        {
          "output_type": "execute_result",
          "data": {
            "text/plain": [
              "array([1, 1, 2, 2, 3, 3, 4, 4])"
            ]
          },
          "metadata": {},
          "execution_count": 12
        }
      ],
      "source": [
        "np.repeat(a, 2) #data repeting 4 time\n",
        "#use case when image processing sometime we need it."
      ]
    },
    {
      "cell_type": "code",
      "execution_count": 13,
      "id": "fbbd1c56",
      "metadata": {
        "colab": {
          "base_uri": "https://localhost:8080/"
        },
        "id": "fbbd1c56",
        "outputId": "eacf1268-79ac-4ecc-c00d-b8088fbfc1c5"
      },
      "outputs": [
        {
          "output_type": "execute_result",
          "data": {
            "text/plain": [
              "array([[1, 2],\n",
              "       [3, 4]])"
            ]
          },
          "metadata": {},
          "execution_count": 13
        }
      ],
      "source": [
        "a"
      ]
    },
    {
      "cell_type": "code",
      "execution_count": 14,
      "id": "bb276406",
      "metadata": {
        "colab": {
          "base_uri": "https://localhost:8080/"
        },
        "id": "bb276406",
        "outputId": "dc3d8e22-6c5a-4dbc-e2cb-42917a5d1ddc"
      },
      "outputs": [
        {
          "output_type": "execute_result",
          "data": {
            "text/plain": [
              "array([[1, 1, 2, 2],\n",
              "       [3, 3, 4, 4]])"
            ]
          },
          "metadata": {},
          "execution_count": 14
        }
      ],
      "source": [
        "np.repeat(a, 2, axis = 1)"
      ]
    },
    {
      "cell_type": "code",
      "execution_count": 15,
      "id": "ba8f46e6",
      "metadata": {
        "colab": {
          "base_uri": "https://localhost:8080/"
        },
        "id": "ba8f46e6",
        "outputId": "1c16e3bb-b878-456c-c1ed-eae74026e6ac"
      },
      "outputs": [
        {
          "output_type": "execute_result",
          "data": {
            "text/plain": [
              "array([[1, 2],\n",
              "       [1, 2],\n",
              "       [3, 4],\n",
              "       [3, 4]])"
            ]
          },
          "metadata": {},
          "execution_count": 15
        }
      ],
      "source": [
        "np.repeat(a, 2, axis = 0)"
      ]
    },
    {
      "cell_type": "code",
      "execution_count": 16,
      "id": "ec4b18f3",
      "metadata": {
        "colab": {
          "base_uri": "https://localhost:8080/"
        },
        "id": "ec4b18f3",
        "outputId": "3db66be1-6950-492a-fffa-d2241f7acddc"
      },
      "outputs": [
        {
          "output_type": "execute_result",
          "data": {
            "text/plain": [
              "array([[1],\n",
              "       [2],\n",
              "       [3]])"
            ]
          },
          "metadata": {},
          "execution_count": 16
        }
      ],
      "source": [
        "data"
      ]
    },
    {
      "cell_type": "code",
      "source": [
        "np.roll(data, 1)"
      ],
      "metadata": {
        "colab": {
          "base_uri": "https://localhost:8080/"
        },
        "id": "3jUaDXSIYjzi",
        "outputId": "313ed3a8-907e-4985-bd16-47badc87d8c1"
      },
      "id": "3jUaDXSIYjzi",
      "execution_count": 17,
      "outputs": [
        {
          "output_type": "execute_result",
          "data": {
            "text/plain": [
              "array([[3],\n",
              "       [1],\n",
              "       [2]])"
            ]
          },
          "metadata": {},
          "execution_count": 17
        }
      ]
    },
    {
      "cell_type": "markdown",
      "source": [],
      "metadata": {
        "id": "0oX4hA94ZO7L"
      },
      "id": "0oX4hA94ZO7L"
    },
    {
      "cell_type": "code",
      "source": [
        "np.roll(data, 2) # same as roll roll pandase has more good way to role usin \"shipff\""
      ],
      "metadata": {
        "colab": {
          "base_uri": "https://localhost:8080/"
        },
        "id": "5DaWXwokZQQo",
        "outputId": "c1e9a395-3fef-4e5b-d3c2-8e5d20a1ac29"
      },
      "id": "5DaWXwokZQQo",
      "execution_count": 47,
      "outputs": [
        {
          "output_type": "execute_result",
          "data": {
            "text/plain": [
              "array([[2],\n",
              "       [3],\n",
              "       [1]])"
            ]
          },
          "metadata": {},
          "execution_count": 47
        }
      ]
    },
    {
      "cell_type": "markdown",
      "source": [],
      "metadata": {
        "id": "ytwsFuwgYjFR"
      },
      "id": "ytwsFuwgYjFR"
    },
    {
      "cell_type": "code",
      "execution_count": 18,
      "id": "bb04527f",
      "metadata": {
        "colab": {
          "base_uri": "https://localhost:8080/"
        },
        "id": "bb04527f",
        "outputId": "6535b77d-aa27-4761-c32b-03811ce8f3d4"
      },
      "outputs": [
        {
          "output_type": "execute_result",
          "data": {
            "text/plain": [
              "array([[3],\n",
              "       [1],\n",
              "       [2]])"
            ]
          },
          "metadata": {},
          "execution_count": 18
        }
      ],
      "source": [
        "np.roll(data, -2) #rolling in"
      ]
    },
    {
      "cell_type": "code",
      "execution_count": 19,
      "id": "b71ebe6a",
      "metadata": {
        "colab": {
          "base_uri": "https://localhost:8080/"
        },
        "id": "b71ebe6a",
        "outputId": "0e04bd8f-9156-4f3b-dd60-678f8f9db41d"
      },
      "outputs": [
        {
          "output_type": "execute_result",
          "data": {
            "text/plain": [
              "array([[1, 0, 0, 0],\n",
              "       [0, 2, 0, 0],\n",
              "       [0, 0, 3, 0],\n",
              "       [0, 0, 0, 4]])"
            ]
          },
          "metadata": {},
          "execution_count": 19
        }
      ],
      "source": [
        "np.diag(np.array([1, 2, 3, 4]))"
      ]
    },
    {
      "cell_type": "markdown",
      "source": [],
      "metadata": {
        "id": "XGxl2wEWY53D"
      },
      "id": "XGxl2wEWY53D"
    },
    {
      "cell_type": "code",
      "execution_count": 22,
      "id": "b67691ef",
      "metadata": {
        "id": "b67691ef"
      },
      "outputs": [],
      "source": [
        "a = np.array([[[1, 2], [3, 4], [5,6]]])"
      ]
    },
    {
      "cell_type": "code",
      "execution_count": 23,
      "id": "32f24dd4",
      "metadata": {
        "colab": {
          "base_uri": "https://localhost:8080/"
        },
        "id": "32f24dd4",
        "outputId": "c51255b7-f757-485f-a58a-e808d54b69f7"
      },
      "outputs": [
        {
          "output_type": "execute_result",
          "data": {
            "text/plain": [
              "array([[[1, 2],\n",
              "        [3, 4],\n",
              "        [5, 6]]])"
            ]
          },
          "metadata": {},
          "execution_count": 23
        }
      ],
      "source": [
        "a"
      ]
    },
    {
      "cell_type": "code",
      "execution_count": 24,
      "id": "1c862653",
      "metadata": {
        "colab": {
          "base_uri": "https://localhost:8080/"
        },
        "id": "1c862653",
        "outputId": "bad07315-93c1-4285-a5e5-a3b659f4935b"
      },
      "outputs": [
        {
          "output_type": "execute_result",
          "data": {
            "text/plain": [
              "array([[[1, 2],\n",
              "        [3, 4],\n",
              "        [5, 6]]])"
            ]
          },
          "metadata": {},
          "execution_count": 24
        }
      ],
      "source": [
        "np.roll(a, 2, axis = 0)"
      ]
    },
    {
      "cell_type": "code",
      "execution_count": 25,
      "id": "843c5082",
      "metadata": {
        "id": "843c5082"
      },
      "outputs": [],
      "source": [
        "#binary operation on array"
      ]
    },
    {
      "cell_type": "code",
      "execution_count": 26,
      "id": "93b6022d",
      "metadata": {
        "id": "93b6022d"
      },
      "outputs": [],
      "source": [
        "arr1 = np.random.randint(1, 10, (3, 4))\n",
        "arr2 = np.random.randint(1, 10, (3, 4))"
      ]
    },
    {
      "cell_type": "code",
      "execution_count": 27,
      "id": "a637a461",
      "metadata": {
        "colab": {
          "base_uri": "https://localhost:8080/"
        },
        "id": "a637a461",
        "outputId": "f60c1bde-bedf-4f84-b92d-09039fa70e8f"
      },
      "outputs": [
        {
          "output_type": "execute_result",
          "data": {
            "text/plain": [
              "array([[8, 9, 3, 5],\n",
              "       [3, 3, 7, 5],\n",
              "       [7, 1, 5, 5]])"
            ]
          },
          "metadata": {},
          "execution_count": 27
        }
      ],
      "source": [
        "arr1"
      ]
    },
    {
      "cell_type": "code",
      "execution_count": 28,
      "id": "3ec57a6b",
      "metadata": {
        "colab": {
          "base_uri": "https://localhost:8080/"
        },
        "id": "3ec57a6b",
        "outputId": "8c90fb10-f0b2-4a0a-99bf-c9a063660ceb"
      },
      "outputs": [
        {
          "output_type": "execute_result",
          "data": {
            "text/plain": [
              "array([[6, 1, 2, 3],\n",
              "       [7, 6, 3, 7],\n",
              "       [1, 9, 2, 3]])"
            ]
          },
          "metadata": {},
          "execution_count": 28
        }
      ],
      "source": [
        "arr2"
      ]
    },
    {
      "cell_type": "code",
      "execution_count": 29,
      "id": "301b5ffc",
      "metadata": {
        "colab": {
          "base_uri": "https://localhost:8080/"
        },
        "id": "301b5ffc",
        "outputId": "a8a5b179-0dda-415d-c873-0c13d1b18629"
      },
      "outputs": [
        {
          "output_type": "execute_result",
          "data": {
            "text/plain": [
              "array([[14, 10,  5,  8],\n",
              "       [10,  9, 10, 12],\n",
              "       [ 8, 10,  7,  8]])"
            ]
          },
          "metadata": {},
          "execution_count": 29
        }
      ],
      "source": [
        "arr1+arr2"
      ]
    },
    {
      "cell_type": "code",
      "execution_count": 30,
      "id": "e5327b1f",
      "metadata": {
        "colab": {
          "base_uri": "https://localhost:8080/"
        },
        "id": "e5327b1f",
        "outputId": "fc672233-5b46-4438-b64a-ac4a602fe4c4"
      },
      "outputs": [
        {
          "output_type": "execute_result",
          "data": {
            "text/plain": [
              "array([[48,  9,  6, 15],\n",
              "       [21, 18, 21, 35],\n",
              "       [ 7,  9, 10, 15]])"
            ]
          },
          "metadata": {},
          "execution_count": 30
        }
      ],
      "source": [
        "arr1*arr2"
      ]
    },
    {
      "cell_type": "code",
      "execution_count": 32,
      "id": "27be5b52",
      "metadata": {
        "colab": {
          "base_uri": "https://localhost:8080/"
        },
        "id": "27be5b52",
        "outputId": "a5577fac-5342-4a7b-dd98-85f13a1e95c5"
      },
      "outputs": [
        {
          "output_type": "execute_result",
          "data": {
            "text/plain": [
              "array([[1.33333333, 9.        , 1.5       , 1.66666667],\n",
              "       [0.42857143, 0.5       , 2.33333333, 0.71428571],\n",
              "       [7.        , 0.11111111, 2.5       , 1.66666667]])"
            ]
          },
          "metadata": {},
          "execution_count": 32
        }
      ],
      "source": [
        "arr1 / arr2"
      ]
    },
    {
      "cell_type": "code",
      "execution_count": 33,
      "id": "b0034874",
      "metadata": {
        "colab": {
          "base_uri": "https://localhost:8080/"
        },
        "id": "b0034874",
        "outputId": "617946e5-b856-4630-935c-439cbb361749"
      },
      "outputs": [
        {
          "output_type": "execute_result",
          "data": {
            "text/plain": [
              "array([[ 2,  8,  1,  2],\n",
              "       [-4, -3,  4, -2],\n",
              "       [ 6, -8,  3,  2]])"
            ]
          },
          "metadata": {},
          "execution_count": 33
        }
      ],
      "source": [
        "arr1 - arr2"
      ]
    },
    {
      "cell_type": "code",
      "execution_count": 34,
      "id": "dc8be527",
      "metadata": {
        "colab": {
          "base_uri": "https://localhost:8080/"
        },
        "id": "dc8be527",
        "outputId": "3c6749c0-9d3d-4aca-9e29-628e0f739cce"
      },
      "outputs": [
        {
          "output_type": "execute_result",
          "data": {
            "text/plain": [
              "array([[262144,      9,      9,    125],\n",
              "       [  2187,    729,    343,  78125],\n",
              "       [     7,      1,     25,    125]])"
            ]
          },
          "metadata": {},
          "execution_count": 34
        }
      ],
      "source": [
        "arr1 ** arr2"
      ]
    },
    {
      "cell_type": "code",
      "execution_count": 36,
      "id": "ca6e3325",
      "metadata": {
        "colab": {
          "base_uri": "https://localhost:8080/"
        },
        "id": "ca6e3325",
        "outputId": "68b086c8-eb59-4c52-b3b8-8ade285da702"
      },
      "outputs": [
        {
          "output_type": "execute_result",
          "data": {
            "text/plain": [
              "array([[8, 9, 3, 5],\n",
              "       [3, 3, 7, 5],\n",
              "       [7, 1, 5, 5]])"
            ]
          },
          "metadata": {},
          "execution_count": 36
        }
      ],
      "source": [
        "arr1"
      ]
    },
    {
      "cell_type": "code",
      "execution_count": 37,
      "id": "042ee1e8",
      "metadata": {
        "colab": {
          "base_uri": "https://localhost:8080/"
        },
        "id": "042ee1e8",
        "outputId": "cda1ce99-a409-4f00-f87d-f8585c811f31"
      },
      "outputs": [
        {
          "output_type": "execute_result",
          "data": {
            "text/plain": [
              "array([[6, 1, 2, 3],\n",
              "       [7, 6, 3, 7],\n",
              "       [1, 9, 2, 3]])"
            ]
          },
          "metadata": {},
          "execution_count": 37
        }
      ],
      "source": [
        "arr2"
      ]
    },
    {
      "cell_type": "code",
      "execution_count": 38,
      "id": "d7c11a6e",
      "metadata": {
        "colab": {
          "base_uri": "https://localhost:8080/"
        },
        "id": "d7c11a6e",
        "outputId": "3abfced9-e0f5-4913-8fcb-e3aaa8dbb50c"
      },
      "outputs": [
        {
          "output_type": "execute_result",
          "data": {
            "text/plain": [
              "array([[ True,  True,  True,  True],\n",
              "       [False, False,  True, False],\n",
              "       [ True, False,  True,  True]])"
            ]
          },
          "metadata": {},
          "execution_count": 38
        }
      ],
      "source": [
        "arr1 > arr2"
      ]
    },
    {
      "cell_type": "code",
      "execution_count": 39,
      "id": "8fc31646",
      "metadata": {
        "colab": {
          "base_uri": "https://localhost:8080/"
        },
        "id": "8fc31646",
        "outputId": "7cfea27b-028a-40fa-acc3-fbb07d20bdb4"
      },
      "outputs": [
        {
          "output_type": "execute_result",
          "data": {
            "text/plain": [
              "array([[ -9, -10,  -4,  -6],\n",
              "       [ -4,  -4,  -8,  -6],\n",
              "       [ -8,  -2,  -6,  -6]])"
            ]
          },
          "metadata": {},
          "execution_count": 39
        }
      ],
      "source": [
        "~arr1"
      ]
    },
    {
      "cell_type": "code",
      "execution_count": 40,
      "id": "3c33496a",
      "metadata": {
        "colab": {
          "base_uri": "https://localhost:8080/"
        },
        "id": "3c33496a",
        "outputId": "dd8e1acb-82c1-4504-b06f-0f620434440e"
      },
      "outputs": [
        {
          "output_type": "execute_result",
          "data": {
            "text/plain": [
              "array([[8, 9, 3, 5],\n",
              "       [3, 3, 7, 5],\n",
              "       [7, 1, 5, 5]])"
            ]
          },
          "metadata": {},
          "execution_count": 40
        }
      ],
      "source": [
        "arr1"
      ]
    },
    {
      "cell_type": "code",
      "execution_count": 41,
      "id": "7ba4ec8a",
      "metadata": {
        "id": "7ba4ec8a"
      },
      "outputs": [],
      "source": [
        "#Numpy string function"
      ]
    },
    {
      "cell_type": "code",
      "execution_count": 42,
      "id": "f5974755",
      "metadata": {
        "id": "f5974755"
      },
      "outputs": [],
      "source": [
        "arr = np.array([\"pw\", \"skills\"])"
      ]
    },
    {
      "cell_type": "code",
      "execution_count": 43,
      "id": "322a9c5d",
      "metadata": {
        "colab": {
          "base_uri": "https://localhost:8080/"
        },
        "id": "322a9c5d",
        "outputId": "73ecc7c6-891a-45a9-8269-3c40326a1b38"
      },
      "outputs": [
        {
          "output_type": "execute_result",
          "data": {
            "text/plain": [
              "array(['pw', 'skills'], dtype='<U6')"
            ]
          },
          "metadata": {},
          "execution_count": 43
        }
      ],
      "source": [
        "arr"
      ]
    },
    {
      "cell_type": "code",
      "execution_count": 44,
      "id": "b925e816",
      "metadata": {
        "colab": {
          "base_uri": "https://localhost:8080/"
        },
        "id": "b925e816",
        "outputId": "9001ecda-646a-454d-a3ca-1807daa22852"
      },
      "outputs": [
        {
          "output_type": "execute_result",
          "data": {
            "text/plain": [
              "array(['PW', 'SKILLS'], dtype='<U6')"
            ]
          },
          "metadata": {},
          "execution_count": 44
        }
      ],
      "source": [
        "np.char.upper(arr)"
      ]
    },
    {
      "cell_type": "code",
      "execution_count": 45,
      "id": "ee80fa5d",
      "metadata": {
        "colab": {
          "base_uri": "https://localhost:8080/"
        },
        "id": "ee80fa5d",
        "outputId": "2631f1a5-0ff5-4fb3-d1ad-0200077d1083"
      },
      "outputs": [
        {
          "output_type": "execute_result",
          "data": {
            "text/plain": [
              "array(['AJAY'], dtype='<U4')"
            ]
          },
          "metadata": {},
          "execution_count": 45
        }
      ],
      "source": [
        "np.char.upper(np.array([\"Ajay\"]))"
      ]
    },
    {
      "cell_type": "code",
      "execution_count": 46,
      "id": "2504c713",
      "metadata": {
        "colab": {
          "base_uri": "https://localhost:8080/"
        },
        "id": "2504c713",
        "outputId": "aa3fa941-30c1-4fdc-8142-00ba3376605f"
      },
      "outputs": [
        {
          "output_type": "execute_result",
          "data": {
            "text/plain": [
              "array(['Pw', 'Skills'], dtype='<U6')"
            ]
          },
          "metadata": {},
          "execution_count": 46
        }
      ],
      "source": [
        "np.char.capitalize(arr) #only first le"
      ]
    },
    {
      "cell_type": "code",
      "execution_count": null,
      "id": "ea6e5866",
      "metadata": {
        "id": "ea6e5866",
        "outputId": "bb057fd9-8ea7-4a3d-ba0f-3892c5b25b2e"
      },
      "outputs": [
        {
          "data": {
            "text/plain": [
              "array(['Pw', 'Skills'], dtype='<U6')"
            ]
          },
          "execution_count": 65,
          "metadata": {},
          "output_type": "execute_result"
        }
      ],
      "source": [
        "np.char.title(arr)"
      ]
    },
    {
      "cell_type": "code",
      "execution_count": null,
      "id": "1cfcbadd",
      "metadata": {
        "id": "1cfcbadd",
        "outputId": "4689c6cf-cb57-4767-fa85-075a8e946b7e"
      },
      "outputs": [
        {
          "data": {
            "text/plain": [
              "array([[2, 7, 1, 6],\n",
              "       [4, 7, 4, 2],\n",
              "       [7, 9, 8, 4]])"
            ]
          },
          "execution_count": 66,
          "metadata": {},
          "output_type": "execute_result"
        }
      ],
      "source": [
        "#Mathematical function\n",
        "\n",
        "\n",
        "arr1"
      ]
    },
    {
      "cell_type": "code",
      "execution_count": null,
      "id": "da0d1342",
      "metadata": {
        "id": "da0d1342",
        "outputId": "405e81bc-ec4d-4ea2-e2f4-72064999773c"
      },
      "outputs": [
        {
          "data": {
            "text/plain": [
              "array([[ 0.90929743,  0.6569866 ,  0.84147098, -0.2794155 ],\n",
              "       [-0.7568025 ,  0.6569866 , -0.7568025 ,  0.90929743],\n",
              "       [ 0.6569866 ,  0.41211849,  0.98935825, -0.7568025 ]])"
            ]
          },
          "execution_count": 67,
          "metadata": {},
          "output_type": "execute_result"
        }
      ],
      "source": [
        "np.sin(arr1)"
      ]
    },
    {
      "cell_type": "code",
      "execution_count": null,
      "id": "bda69508",
      "metadata": {
        "id": "bda69508",
        "outputId": "bd7ddbd4-8064-473a-b0c7-f855873aa38c"
      },
      "outputs": [
        {
          "data": {
            "text/plain": [
              "array([[-0.41614684,  0.75390225,  0.54030231,  0.96017029],\n",
              "       [-0.65364362,  0.75390225, -0.65364362, -0.41614684],\n",
              "       [ 0.75390225, -0.91113026, -0.14550003, -0.65364362]])"
            ]
          },
          "execution_count": 68,
          "metadata": {},
          "output_type": "execute_result"
        }
      ],
      "source": [
        "np.cos(arr1)"
      ]
    },
    {
      "cell_type": "code",
      "execution_count": null,
      "id": "d64bf001",
      "metadata": {
        "id": "d64bf001",
        "outputId": "92beca72-500d-4615-cddf-fe7aca42098e"
      },
      "outputs": [
        {
          "data": {
            "text/plain": [
              "array([[-2.18503986,  0.87144798,  1.55740772, -0.29100619],\n",
              "       [ 1.15782128,  0.87144798,  1.15782128, -2.18503986],\n",
              "       [ 0.87144798, -0.45231566, -6.79971146,  1.15782128]])"
            ]
          },
          "execution_count": 69,
          "metadata": {},
          "output_type": "execute_result"
        }
      ],
      "source": [
        "np.tan(arr1)"
      ]
    },
    {
      "cell_type": "code",
      "execution_count": null,
      "id": "6f1d4d31",
      "metadata": {
        "id": "6f1d4d31",
        "outputId": "9e7bc2d3-065b-49b8-cb07-a7ffa1f41e10"
      },
      "outputs": [
        {
          "data": {
            "text/plain": [
              "array([[0.30103   , 0.84509804, 0.        , 0.77815125],\n",
              "       [0.60205999, 0.84509804, 0.60205999, 0.30103   ],\n",
              "       [0.84509804, 0.95424251, 0.90308999, 0.60205999]])"
            ]
          },
          "execution_count": 70,
          "metadata": {},
          "output_type": "execute_result"
        }
      ],
      "source": [
        "np.log10(arr1)"
      ]
    },
    {
      "cell_type": "code",
      "execution_count": null,
      "id": "ec9c5262",
      "metadata": {
        "id": "ec9c5262",
        "outputId": "284b94b2-89b7-452b-d0e0-08220272cf30"
      },
      "outputs": [
        {
          "data": {
            "text/plain": [
              "array([[7.38905610e+00, 1.09663316e+03, 2.71828183e+00, 4.03428793e+02],\n",
              "       [5.45981500e+01, 1.09663316e+03, 5.45981500e+01, 7.38905610e+00],\n",
              "       [1.09663316e+03, 8.10308393e+03, 2.98095799e+03, 5.45981500e+01]])"
            ]
          },
          "execution_count": 71,
          "metadata": {},
          "output_type": "execute_result"
        }
      ],
      "source": [
        "np.exp(arr1)"
      ]
    },
    {
      "cell_type": "code",
      "execution_count": null,
      "id": "014760f6",
      "metadata": {
        "id": "014760f6",
        "outputId": "a55b9cee-2925-498c-8d78-d38dfb91ef71"
      },
      "outputs": [
        {
          "data": {
            "text/plain": [
              "array([[  8, 343,   1, 216],\n",
              "       [ 64, 343,  64,   8],\n",
              "       [343, 729, 512,  64]], dtype=int32)"
            ]
          },
          "execution_count": 73,
          "metadata": {},
          "output_type": "execute_result"
        }
      ],
      "source": [
        "np.power(arr1, 3)"
      ]
    },
    {
      "cell_type": "code",
      "execution_count": null,
      "id": "c05438e8",
      "metadata": {
        "id": "c05438e8",
        "outputId": "0bdf39eb-2ddd-48aa-ae06-36941e6c8e1f"
      },
      "outputs": [
        {
          "data": {
            "text/plain": [
              "5.083333333333333"
            ]
          },
          "execution_count": 74,
          "metadata": {},
          "output_type": "execute_result"
        }
      ],
      "source": [
        "np.mean(arr1)"
      ]
    },
    {
      "cell_type": "code",
      "execution_count": null,
      "id": "bbd84d37",
      "metadata": {
        "id": "bbd84d37",
        "outputId": "af597a06-b4a2-429c-88e9-ede4c35e7a99"
      },
      "outputs": [
        {
          "data": {
            "text/plain": [
              "9"
            ]
          },
          "execution_count": 75,
          "metadata": {},
          "output_type": "execute_result"
        }
      ],
      "source": [
        "np.max(arr1)"
      ]
    },
    {
      "cell_type": "code",
      "execution_count": null,
      "id": "c86aab19",
      "metadata": {
        "id": "c86aab19",
        "outputId": "2845ba13-ab5b-434b-bdd3-1e3dad75063a"
      },
      "outputs": [
        {
          "data": {
            "text/plain": [
              "2.4986107250941583"
            ]
          },
          "execution_count": 76,
          "metadata": {},
          "output_type": "execute_result"
        }
      ],
      "source": [
        "np.std(arr1)"
      ]
    },
    {
      "cell_type": "code",
      "execution_count": null,
      "id": "6d11fd87",
      "metadata": {
        "id": "6d11fd87",
        "outputId": "fa27c920-10f6-4eb6-be75-455fee444bc7"
      },
      "outputs": [
        {
          "data": {
            "text/plain": [
              "6.243055555555556"
            ]
          },
          "execution_count": 77,
          "metadata": {},
          "output_type": "execute_result"
        }
      ],
      "source": [
        "np.var(arr1)"
      ]
    },
    {
      "cell_type": "code",
      "execution_count": null,
      "id": "fe1b850b",
      "metadata": {
        "id": "fe1b850b",
        "outputId": "9aad882c-cebf-49f5-d915-92f56dfb2798"
      },
      "outputs": [
        {
          "data": {
            "text/plain": [
              "9"
            ]
          },
          "execution_count": 78,
          "metadata": {},
          "output_type": "execute_result"
        }
      ],
      "source": [
        "np.max(arr1)"
      ]
    },
    {
      "cell_type": "code",
      "execution_count": null,
      "id": "45baf8c0",
      "metadata": {
        "id": "45baf8c0",
        "outputId": "3ef087a1-4c39-4bf5-ff13-49e6ddbca8c1"
      },
      "outputs": [
        {
          "data": {
            "text/plain": [
              "array([[-1, -2, -5, -1],\n",
              "       [ 2,  0,  0, -5],\n",
              "       [-2,  6,  2,  1]])"
            ]
          },
          "execution_count": 79,
          "metadata": {},
          "output_type": "execute_result"
        }
      ],
      "source": [
        "arr1 - arr2"
      ]
    },
    {
      "cell_type": "code",
      "execution_count": null,
      "id": "103ac422",
      "metadata": {
        "id": "103ac422",
        "outputId": "1c8564ce-70bf-4633-9bd5-e35574df5bc1"
      },
      "outputs": [
        {
          "data": {
            "text/plain": [
              "array([[-1, -2, -5, -1],\n",
              "       [ 2,  0,  0, -5],\n",
              "       [-2,  6,  2,  1]])"
            ]
          },
          "execution_count": 80,
          "metadata": {},
          "output_type": "execute_result"
        }
      ],
      "source": [
        "np.subtract(arr1, arr2)"
      ]
    },
    {
      "cell_type": "code",
      "execution_count": null,
      "id": "76f5ef5a",
      "metadata": {
        "id": "76f5ef5a",
        "outputId": "b887a4d6-f53b-4502-d3c2-7bd97fdb9f8b"
      },
      "outputs": [
        {
          "data": {
            "text/plain": [
              "array([[ 6, 63,  6, 42],\n",
              "       [ 8, 49, 16, 14],\n",
              "       [63, 27, 48, 12]])"
            ]
          },
          "execution_count": 81,
          "metadata": {},
          "output_type": "execute_result"
        }
      ],
      "source": [
        "arr1 * arr2"
      ]
    },
    {
      "cell_type": "code",
      "execution_count": null,
      "id": "0d509ced",
      "metadata": {
        "id": "0d509ced",
        "outputId": "087d6595-2c15-4bbd-e435-144cee2c6001"
      },
      "outputs": [
        {
          "data": {
            "text/plain": [
              "array([[ 6, 63,  6, 42],\n",
              "       [ 8, 49, 16, 14],\n",
              "       [63, 27, 48, 12]])"
            ]
          },
          "execution_count": 82,
          "metadata": {},
          "output_type": "execute_result"
        }
      ],
      "source": [
        "np.multiply(arr1, arr2)"
      ]
    },
    {
      "cell_type": "code",
      "execution_count": null,
      "id": "451904b6",
      "metadata": {
        "id": "451904b6",
        "outputId": "cf238bed-1cc5-4901-a2b7-efd0bfb6cb3f"
      },
      "outputs": [
        {
          "data": {
            "text/plain": [
              "array([[2, 7, 1, 6],\n",
              "       [0, 0, 0, 2],\n",
              "       [7, 0, 2, 1]])"
            ]
          },
          "execution_count": 83,
          "metadata": {},
          "output_type": "execute_result"
        }
      ],
      "source": [
        "np.mod(arr1, arr2) #return element wise remainder"
      ]
    },
    {
      "cell_type": "code",
      "execution_count": null,
      "id": "062f00fa",
      "metadata": {
        "id": "062f00fa",
        "outputId": "8cbfc384-fd2d-4440-866d-b231ad5a74ac"
      },
      "outputs": [
        {
          "data": {
            "text/plain": [
              "array([[       8, 40353607,        1,   279936],\n",
              "       [      16,   823543,      256,      128],\n",
              "       [40353607,      729,   262144,       64]])"
            ]
          },
          "execution_count": 84,
          "metadata": {},
          "output_type": "execute_result"
        }
      ],
      "source": [
        "np.power(arr1, arr2)"
      ]
    },
    {
      "cell_type": "code",
      "execution_count": null,
      "id": "8cd5fc39",
      "metadata": {
        "id": "8cd5fc39",
        "outputId": "a7915789-36bb-4f89-9c5c-70598945f9b8"
      },
      "outputs": [
        {
          "data": {
            "text/plain": [
              "array([[1.41421356, 2.64575131, 1.        , 2.44948974],\n",
              "       [2.        , 2.64575131, 2.        , 1.41421356],\n",
              "       [2.64575131, 3.        , 2.82842712, 2.        ]])"
            ]
          },
          "execution_count": 85,
          "metadata": {},
          "output_type": "execute_result"
        }
      ],
      "source": [
        "np.sqrt(arr1)"
      ]
    },
    {
      "cell_type": "code",
      "execution_count": null,
      "id": "eb705371",
      "metadata": {
        "id": "eb705371"
      },
      "outputs": [],
      "source": [
        "#sort search"
      ]
    },
    {
      "cell_type": "code",
      "execution_count": null,
      "id": "5fbd6b0c",
      "metadata": {
        "id": "5fbd6b0c"
      },
      "outputs": [],
      "source": [
        "arr = np.array([5, 6, 1, 2])"
      ]
    },
    {
      "cell_type": "code",
      "execution_count": null,
      "id": "c59608de",
      "metadata": {
        "id": "c59608de",
        "outputId": "870f0835-19a9-4f27-8dfe-2e10d8de958d"
      },
      "outputs": [
        {
          "data": {
            "text/plain": [
              "array([5, 6, 1, 2])"
            ]
          },
          "execution_count": 87,
          "metadata": {},
          "output_type": "execute_result"
        }
      ],
      "source": [
        "arr"
      ]
    },
    {
      "cell_type": "code",
      "execution_count": null,
      "id": "f4b237eb",
      "metadata": {
        "id": "f4b237eb",
        "outputId": "1f1010ad-c71b-4248-faea-04306e53012c"
      },
      "outputs": [
        {
          "data": {
            "text/plain": [
              "array([1, 2, 5, 6])"
            ]
          },
          "execution_count": 88,
          "metadata": {},
          "output_type": "execute_result"
        }
      ],
      "source": [
        "np.sort(arr)"
      ]
    },
    {
      "cell_type": "code",
      "execution_count": null,
      "id": "70df6478",
      "metadata": {
        "id": "70df6478"
      },
      "outputs": [],
      "source": [
        "arr = np.array([5, 6,100, 200, 1, 2, 8, 9])"
      ]
    },
    {
      "cell_type": "code",
      "execution_count": null,
      "id": "680241ba",
      "metadata": {
        "id": "680241ba"
      },
      "outputs": [],
      "source": [
        "# a = np.sort(arr)"
      ]
    },
    {
      "cell_type": "code",
      "execution_count": null,
      "id": "4df8f365",
      "metadata": {
        "id": "4df8f365",
        "outputId": "dd8cee25-f8bc-4d15-99ab-6bf40ec55f46"
      },
      "outputs": [
        {
          "data": {
            "text/plain": [
              "array([  5,   6, 100, 200,   1,   2,   8,   9])"
            ]
          },
          "execution_count": 107,
          "metadata": {},
          "output_type": "execute_result"
        }
      ],
      "source": [
        "arr"
      ]
    },
    {
      "cell_type": "code",
      "execution_count": null,
      "id": "9965b991",
      "metadata": {
        "id": "9965b991",
        "outputId": "a22e02a6-a6eb-48ba-e81e-2129cdf9c81c"
      },
      "outputs": [
        {
          "data": {
            "text/plain": [
              "array([  1,   2,   5,   6,   8,   9, 100, 200])"
            ]
          },
          "execution_count": 109,
          "metadata": {},
          "output_type": "execute_result"
        }
      ],
      "source": [
        "np.sort(arr)"
      ]
    },
    {
      "cell_type": "code",
      "execution_count": null,
      "id": "4bc8f701",
      "metadata": {
        "id": "4bc8f701",
        "outputId": "cbe2b5f1-dd93-4109-d754-d3052898b97a"
      },
      "outputs": [
        {
          "data": {
            "text/plain": [
              "6"
            ]
          },
          "execution_count": 110,
          "metadata": {},
          "output_type": "execute_result"
        }
      ],
      "source": [
        "np.searchsorted(arr, 3)"
      ]
    },
    {
      "cell_type": "code",
      "execution_count": null,
      "id": "e4ec2d8a",
      "metadata": {
        "id": "e4ec2d8a"
      },
      "outputs": [],
      "source": []
    },
    {
      "cell_type": "code",
      "execution_count": null,
      "id": "1bfc98c1",
      "metadata": {
        "id": "1bfc98c1",
        "outputId": "4472f2a1-31aa-44e8-cafd-198fc4864b66"
      },
      "outputs": [
        {
          "data": {
            "text/plain": [
              "4"
            ]
          },
          "execution_count": 89,
          "metadata": {},
          "output_type": "execute_result"
        }
      ],
      "source": [
        "np.searchsorted(arr, 3)"
      ]
    },
    {
      "cell_type": "code",
      "execution_count": null,
      "id": "2a8ac0e2",
      "metadata": {
        "id": "2a8ac0e2",
        "outputId": "5ebadfe1-3b4f-463f-daab-43e5ccaebbe6"
      },
      "outputs": [
        {
          "data": {
            "text/plain": [
              "4"
            ]
          },
          "execution_count": 90,
          "metadata": {},
          "output_type": "execute_result"
        }
      ],
      "source": [
        "arr1 = np.array([0, 1, 2, 3, 0, 4])\n",
        "np.count_nonzero(arr1)  #gives number of none zero element"
      ]
    },
    {
      "cell_type": "code",
      "execution_count": null,
      "id": "738132e3",
      "metadata": {
        "id": "738132e3",
        "outputId": "c43e4fd0-c294-45c7-a7e6-315d48ccd5ce"
      },
      "outputs": [
        {
          "data": {
            "text/plain": [
              "array([False,  True,  True,  True, False,  True])"
            ]
          },
          "execution_count": 91,
          "metadata": {},
          "output_type": "execute_result"
        }
      ],
      "source": [
        "arr1 > 0"
      ]
    },
    {
      "cell_type": "code",
      "execution_count": null,
      "id": "944d11ba",
      "metadata": {
        "id": "944d11ba",
        "outputId": "6d3d80d2-5dca-4be1-ef40-f335601354d2"
      },
      "outputs": [
        {
          "data": {
            "text/plain": [
              "array([0, 1, 2, 3, 0, 4])"
            ]
          },
          "execution_count": 115,
          "metadata": {},
          "output_type": "execute_result"
        }
      ],
      "source": [
        "arr1"
      ]
    },
    {
      "cell_type": "code",
      "execution_count": null,
      "id": "436b998a",
      "metadata": {
        "id": "436b998a",
        "outputId": "6f5e7132-55ff-48e9-b800-5c3fdf784f79"
      },
      "outputs": [
        {
          "data": {
            "text/plain": [
              "(array([1, 2, 3, 5], dtype=int64),)"
            ]
          },
          "execution_count": 114,
          "metadata": {},
          "output_type": "execute_result"
        }
      ],
      "source": [
        "np.where(arr1 > 0)"
      ]
    },
    {
      "cell_type": "code",
      "execution_count": null,
      "id": "29d6f667",
      "metadata": {
        "id": "29d6f667",
        "outputId": "6359d8ef-a491-45a5-a57d-85400e80d25f"
      },
      "outputs": [
        {
          "data": {
            "text/plain": [
              "array([1, 2, 3, 4])"
            ]
          },
          "execution_count": 93,
          "metadata": {},
          "output_type": "execute_result"
        }
      ],
      "source": [
        "np.extract(arr1 > 0, arr1)"
      ]
    },
    {
      "cell_type": "code",
      "execution_count": null,
      "id": "c781f6b6",
      "metadata": {
        "id": "c781f6b6",
        "outputId": "f1b975d7-5a6d-455a-acf4-27e6754a2825"
      },
      "outputs": [
        {
          "data": {
            "text/plain": [
              "array([       0, 16777216, 33554432, 50331648,        0, 67108864])"
            ]
          },
          "execution_count": 112,
          "metadata": {},
          "output_type": "execute_result"
        }
      ],
      "source": [
        "arr1.byteswap() # address"
      ]
    },
    {
      "cell_type": "code",
      "execution_count": null,
      "id": "cbb00aca",
      "metadata": {
        "id": "cbb00aca"
      },
      "outputs": [],
      "source": [
        "#matrix >> 2d array"
      ]
    },
    {
      "cell_type": "code",
      "execution_count": null,
      "id": "1e3d2a20",
      "metadata": {
        "id": "1e3d2a20"
      },
      "outputs": [],
      "source": [
        "import numpy.matlib as nm #matlib means matrix librery"
      ]
    },
    {
      "cell_type": "code",
      "execution_count": null,
      "id": "1ca1e50a",
      "metadata": {
        "id": "1ca1e50a",
        "outputId": "ff6692c2-c1a9-4856-ddd9-169ae7afe91d"
      },
      "outputs": [
        {
          "data": {
            "text/plain": [
              "matrix([[0., 0., 0., 0., 0.]])"
            ]
          },
          "execution_count": 117,
          "metadata": {},
          "output_type": "execute_result"
        }
      ],
      "source": [
        "nm.zeros(5)"
      ]
    },
    {
      "cell_type": "code",
      "execution_count": null,
      "id": "62f8c360",
      "metadata": {
        "id": "62f8c360",
        "outputId": "94f824db-10df-40e6-9253-6279bc580c27"
      },
      "outputs": [
        {
          "data": {
            "text/plain": [
              "matrix([[1., 1., 1., 1.],\n",
              "        [1., 1., 1., 1.],\n",
              "        [1., 1., 1., 1.]])"
            ]
          },
          "execution_count": 118,
          "metadata": {},
          "output_type": "execute_result"
        }
      ],
      "source": [
        "nm.ones((3, 4))"
      ]
    },
    {
      "cell_type": "code",
      "execution_count": null,
      "id": "5f182801",
      "metadata": {
        "id": "5f182801"
      },
      "outputs": [],
      "source": [
        "#Numpy linear algebra"
      ]
    },
    {
      "cell_type": "code",
      "execution_count": null,
      "id": "1b7f3d9d",
      "metadata": {
        "id": "1b7f3d9d",
        "outputId": "d3642dc7-a2b7-486a-c48d-207633dd1439"
      },
      "outputs": [
        {
          "data": {
            "text/plain": [
              "array([0, 1, 2, 3, 0, 4])"
            ]
          },
          "execution_count": 120,
          "metadata": {},
          "output_type": "execute_result"
        }
      ],
      "source": [
        "arr1"
      ]
    },
    {
      "cell_type": "code",
      "execution_count": null,
      "id": "8199e9d3",
      "metadata": {
        "id": "8199e9d3"
      },
      "outputs": [],
      "source": [
        "arr1 = np.random.randint(1, 10, (3, 4))\n",
        "arr2 = np.random.randint(1, 10, (3, 4))"
      ]
    },
    {
      "cell_type": "code",
      "execution_count": null,
      "id": "561ac9d4",
      "metadata": {
        "id": "561ac9d4"
      },
      "outputs": [],
      "source": [
        "arr1 = np.array([[2, 3], [4, 5]])\n",
        "arr2 = np.array([[1, 3], [4, 5]])"
      ]
    },
    {
      "cell_type": "code",
      "execution_count": null,
      "id": "d7f67abd",
      "metadata": {
        "id": "d7f67abd",
        "outputId": "0127b42e-f29e-488c-e6d0-ddacd5946d1b"
      },
      "outputs": [
        {
          "data": {
            "text/plain": [
              "array([[14, 21],\n",
              "       [24, 37]])"
            ]
          },
          "execution_count": 126,
          "metadata": {},
          "output_type": "execute_result"
        }
      ],
      "source": [
        "arr1 @ arr2"
      ]
    },
    {
      "cell_type": "code",
      "execution_count": null,
      "id": "f0f82601",
      "metadata": {
        "id": "f0f82601"
      },
      "outputs": [],
      "source": [
        "a  = np.array([[7, 5.3, -3], [3, -5, 2], [5, 3, -7]])"
      ]
    },
    {
      "cell_type": "code",
      "execution_count": null,
      "id": "1c1363bf",
      "metadata": {
        "id": "1c1363bf",
        "outputId": "8e0336d9-6dab-4639-853b-ac7affc75b69"
      },
      "outputs": [
        {
          "data": {
            "text/plain": [
              "array([[ 7. ,  5.3, -3. ],\n",
              "       [ 3. , -5. ,  2. ],\n",
              "       [ 5. ,  3. , -7. ]])"
            ]
          },
          "execution_count": 133,
          "metadata": {},
          "output_type": "execute_result"
        }
      ],
      "source": [
        "a"
      ]
    },
    {
      "cell_type": "code",
      "execution_count": null,
      "id": "ebb5f66f",
      "metadata": {
        "id": "ebb5f66f"
      },
      "outputs": [],
      "source": [
        "b = np.array([16, -8, 0])"
      ]
    },
    {
      "cell_type": "code",
      "execution_count": null,
      "id": "6b3720c5",
      "metadata": {
        "id": "6b3720c5",
        "outputId": "9e71f6b6-086c-41d1-a072-4a4f9b27d218"
      },
      "outputs": [
        {
          "data": {
            "text/plain": [
              "array([16, -8,  0])"
            ]
          },
          "execution_count": 135,
          "metadata": {},
          "output_type": "execute_result"
        }
      ],
      "source": [
        "b"
      ]
    },
    {
      "cell_type": "code",
      "execution_count": null,
      "id": "2f850c99",
      "metadata": {
        "id": "2f850c99",
        "outputId": "a6f40f16-4979-4654-f27e-597c5f7dbb27"
      },
      "outputs": [
        {
          "data": {
            "text/plain": [
              "array([0.90162081, 2.89483603, 1.88465888])"
            ]
          },
          "execution_count": 136,
          "metadata": {},
          "output_type": "execute_result"
        }
      ],
      "source": [
        "np.linalg.solve(a, b)  #used to solve liner equestion\n",
        "#ex:-\n",
        "#7x + 5.3y - 3z = 16\n",
        "#3x - 5y + 2z = -8\n",
        "#5x + 3y - 7z = 0"
      ]
    },
    {
      "cell_type": "code",
      "execution_count": null,
      "id": "4e45f82d",
      "metadata": {
        "id": "4e45f82d",
        "outputId": "18097b4e-3821-458a-bc18-e6ab25e768c9"
      },
      "outputs": [
        {
          "data": {
            "text/plain": [
              "array([[2, 3],\n",
              "       [4, 5]])"
            ]
          },
          "execution_count": 137,
          "metadata": {},
          "output_type": "execute_result"
        }
      ],
      "source": [
        "arr1"
      ]
    },
    {
      "cell_type": "code",
      "execution_count": null,
      "id": "b25dbbc8",
      "metadata": {
        "id": "b25dbbc8",
        "outputId": "bde73134-a35c-43c4-c4c6-c724f3242f1d"
      },
      "outputs": [
        {
          "data": {
            "text/plain": [
              "-2"
            ]
          },
          "execution_count": 138,
          "metadata": {},
          "output_type": "execute_result"
        }
      ],
      "source": [
        "5*2 - 3*4"
      ]
    },
    {
      "cell_type": "code",
      "execution_count": null,
      "id": "f81df562",
      "metadata": {
        "id": "f81df562",
        "outputId": "a483bff5-02f4-46fe-ae4e-811cd8557341"
      },
      "outputs": [
        {
          "data": {
            "text/plain": [
              "-2.0"
            ]
          },
          "execution_count": 139,
          "metadata": {},
          "output_type": "execute_result"
        }
      ],
      "source": [
        "np.linalg.det(arr1)\n",
        "# used to find determin of matrix."
      ]
    },
    {
      "cell_type": "code",
      "execution_count": null,
      "id": "0a874cf4",
      "metadata": {
        "id": "0a874cf4",
        "outputId": "272a1505-dfb5-41f9-af02-5150a48ef771"
      },
      "outputs": [
        {
          "data": {
            "text/plain": [
              "array([[-2.5,  1.5],\n",
              "       [ 2. , -1. ]])"
            ]
          },
          "execution_count": 140,
          "metadata": {},
          "output_type": "execute_result"
        }
      ],
      "source": [
        "np.linalg.inv(arr1)\n",
        "# inv used to find inverse of matrix\n",
        "# For ex:- AA^-1 = I"
      ]
    },
    {
      "cell_type": "code",
      "execution_count": null,
      "id": "b57b7362",
      "metadata": {
        "id": "b57b7362"
      },
      "outputs": [],
      "source": []
    }
  ],
  "metadata": {
    "kernelspec": {
      "display_name": "Python 3 (ipykernel)",
      "language": "python",
      "name": "python3"
    },
    "language_info": {
      "codemirror_mode": {
        "name": "ipython",
        "version": 3
      },
      "file_extension": ".py",
      "mimetype": "text/x-python",
      "name": "python",
      "nbconvert_exporter": "python",
      "pygments_lexer": "ipython3",
      "version": "3.11.4"
    },
    "colab": {
      "provenance": []
    }
  },
  "nbformat": 4,
  "nbformat_minor": 5
}